{
 "cells": [
  {
   "cell_type": "markdown",
   "metadata": {},
   "source": [
    "Markdown Cell"
   ]
  },
  {
   "cell_type": "markdown",
   "metadata": {},
   "source": [
    "# Intro:\n",
    "---\n",
    "\n",
    "Notebook will analyze arthritis inflammation dataset in Python\n",
    "\n",
    "\n",
    "### Objectives:\n",
    "\n",
    "---\n",
    "\n",
    "* programming in python\n",
    "* work with single data values\n",
    "\n",
    "<\n",
    "### Variables\n",
    "\n",
    "---"
   ]
  },
  {
   "cell_type": "code",
   "execution_count": 2,
   "metadata": {},
   "outputs": [
    {
     "data": {
      "text/plain": [
       "53"
      ]
     },
     "execution_count": 2,
     "metadata": {},
     "output_type": "execute_result"
    }
   ],
   "source": [
    "# Calculator Output\n",
    "\n",
    "3 + 5 * 10"
   ]
  },
  {
   "cell_type": "code",
   "execution_count": 45,
   "metadata": {},
   "outputs": [
    {
     "name": "stdout",
     "output_type": "stream",
     "text": [
      "lb: 1 | kg: 1\n",
      "1 lb = 0.45359237 kg --- 1 kg = 2.2046226218 lb\n",
      "weight in kilograms: 60.0 | weight in pounds: 132.277357308\n",
      "weight in pounds: 132 | weight in kilograms: 59.874192840000006\n",
      "weight in pounds: 132.0\n"
     ]
    }
   ],
   "source": [
    "# variables & data types\n",
    "# ----------------------\n",
    "# Variables: case sensitive, underscores, digits but cannot begin, letters, \n",
    "# data types: integers (1), floating point numbers (2.23), 'strings'\n",
    "\n",
    "\n",
    "# Units\n",
    "\n",
    "\n",
    "# find(kg) = weight(lb) * m_kg\n",
    "lb = 1\n",
    "# MULTIPLY -- m(kg) = m(lb) * 0.45359237\n",
    "# 1 lb = 0.45359237 kgs\n",
    "# pound = kilogram\n",
    "m_kg = 0.45359237\n",
    "\n",
    "\n",
    "# find(lb) = weight(kg) * m_lb\n",
    "kg = 1 \n",
    "# DIVIDE -- m(lb) = m(kg) / 0.45359237\n",
    "# 1 kg = 2.2046226218 lbs\n",
    "# kilogram = pound\n",
    "m_lb = 2.2046226218 \n",
    "\n",
    "\n",
    "\n",
    "\n",
    "# Texts\n",
    "\n",
    "weight_kg = 60.0\n",
    "weight_lb = weight_kg * m_lb\n",
    "weight_lb2 = 132\n",
    "weight_kg2 = weight_lb2 * m_kg\n",
    "\n",
    "weight_lb_text = 'weight in pounds:'\n",
    "weight_kg_text = 'weight in kilograms:'\n",
    "\n",
    "\n",
    "print('lb:', lb, '| kg:', kg)\n",
    "print('1 lb =', m_kg, 'kg', '--- 1 kg =', m_lb, 'lb')\n",
    "print(weight_kg_text, weight_kg, '|', weight_lb_text, weight_lb)\n",
    "print(weight_lb_text, weight_lb2, '|', weight_kg_text, weight_kg2)\n",
    "print('weight in pounds:', 2.2 * weight_kg)"
   ]
  },
  {
   "cell_type": "code",
   "execution_count": 47,
   "metadata": {},
   "outputs": [
    {
     "name": "stdout",
     "output_type": "stream",
     "text": [
      "weight upadte: 65.0 kg / 143.300470417 lbs\n"
     ]
    }
   ],
   "source": [
    "# weight update 01\n",
    "\n",
    "weight_kg = 65.0\n",
    "weight_lb = weight_kg * m_lb\n",
    "print('weight upadte:', weight_kg, 'kg /', weight_kg * m_lb, 'lbs')"
   ]
  },
  {
   "cell_type": "code",
   "execution_count": 53,
   "metadata": {},
   "outputs": [
    {
     "name": "stdout",
     "output_type": "stream",
     "text": [
      "weight update 02: 100.0 kg / 143.300470417 lbs\n"
     ]
    }
   ],
   "source": [
    "# weight update 02\n",
    "\n",
    "weight_kg = 100.0\n",
    "print('weight update 02:', weight_kg, 'kg /', weight_lb, 'lbs')\n",
    "\n",
    "# variable recall: weight_lb - no updates, therefore inital values stays unchanged"
   ]
  },
  {
   "cell_type": "markdown",
   "metadata": {},
   "source": [
    "\n",
    "---\n",
    "\n",
    "## Data"
   ]
  },
  {
   "cell_type": "code",
   "execution_count": null,
   "metadata": {},
   "outputs": [],
   "source": []
  }
 ],
 "metadata": {
  "kernelspec": {
   "display_name": "Python 3",
   "language": "python",
   "name": "python3"
  },
  "language_info": {
   "codemirror_mode": {
    "name": "ipython",
    "version": 3
   },
   "file_extension": ".py",
   "mimetype": "text/x-python",
   "name": "python",
   "nbconvert_exporter": "python",
   "pygments_lexer": "ipython3",
   "version": "3.7.3"
  }
 },
 "nbformat": 4,
 "nbformat_minor": 2
}
